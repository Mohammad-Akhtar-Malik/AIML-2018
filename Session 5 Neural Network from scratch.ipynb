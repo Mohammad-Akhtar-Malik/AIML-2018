{
 "cells": [
  {
   "cell_type": "markdown",
   "metadata": {},
   "source": [
    "# Neural Network\n",
    "We will be implementing a 2 layer neural network in Numpy"
   ]
  },
  {
   "cell_type": "code",
   "execution_count": 19,
   "metadata": {
    "collapsed": true
   },
   "outputs": [],
   "source": [
    "import numpy as np\n",
    "import time"
   ]
  },
  {
   "cell_type": "markdown",
   "metadata": {},
   "source": [
    "# Parameters"
   ]
  },
  {
   "cell_type": "code",
   "execution_count": 20,
   "metadata": {
    "collapsed": true
   },
   "outputs": [],
   "source": [
    "#two layer neural network\n",
    "n_hidden=10\n",
    "n_input=10\n",
    "n_out=10\n",
    "#sample data\n",
    "n_sample=300\n",
    "#hyperparameters\n",
    "learning_rate=0.01\n",
    "momentum=0.9\n",
    "#non deterministic seeding\n",
    "np.random.seed(0)"
   ]
  },
  {
   "cell_type": "markdown",
   "metadata": {},
   "source": [
    "# Activation Functions"
   ]
  },
  {
   "cell_type": "code",
   "execution_count": 21,
   "metadata": {
    "collapsed": true
   },
   "outputs": [],
   "source": [
    "#activation function\n",
    "def sigmoid(x):\n",
    "    return 1.0/(1+np.exp(-x))\n",
    "\n",
    "def tanh_prime(x):\n",
    "    return 1-np.tanh(x)**2"
   ]
  },
  {
   "cell_type": "markdown",
   "metadata": {},
   "source": [
    "# Writing Our very own Neural Network\n",
    "Update Rules\n",
    "![](./images/backprop.svg)"
   ]
  },
  {
   "cell_type": "code",
   "execution_count": 22,
   "metadata": {
    "collapsed": true
   },
   "outputs": [],
   "source": [
    "def train(x,t,v,w,bv,bw):\n",
    "    #x=input data\n",
    "    #t=output\n",
    "    #v,w= weights of the two layers\n",
    "    #bv and bw bias\n",
    "    \n",
    "    #forward pass- matrix mul+bias followed by a non linearity\n",
    "    A=np.dot(x,v)+bv\n",
    "    z=np.tanh(A)\n",
    "    \n",
    "    B=np.dot(z,w)+bw\n",
    "    y=sigmoid(B)\n",
    "    \n",
    "    #backprop\n",
    "    Ew=y-t\n",
    "    Ev=tanh_prime(A)*np.dot(w,Ew)\n",
    "    \n",
    "    #predict loss\n",
    "    #out[i, j] = a[i] * b[j]\n",
    "    dW=np.outer(z,Ew)\n",
    "    dV=np.outer(x,Ev)\n",
    "    \n",
    "    #cross entropy loss\n",
    "    loss=-np.mean( t* np.log(y)+(1-t)*np.log(1-y))\n",
    "    \n",
    "    #returning loss and deltas \n",
    "    return loss,(dV,dW,Ev,Ew)"
   ]
  },
  {
   "cell_type": "markdown",
   "metadata": {},
   "source": [
    "# Prediction step"
   ]
  },
  {
   "cell_type": "code",
   "execution_count": 23,
   "metadata": {
    "collapsed": true
   },
   "outputs": [],
   "source": [
    "def predict(x,v,w,bv,bw):\n",
    "    A=np.dot(x,v)+bv\n",
    "    z=np.tanh(A)\n",
    "    \n",
    "    B=np.dot(z,w)+bw\n",
    "    return (sigmoid(B)>0.5).astype(int)"
   ]
  },
  {
   "cell_type": "markdown",
   "metadata": {},
   "source": [
    "# Creating Layers"
   ]
  },
  {
   "cell_type": "code",
   "execution_count": 37,
   "metadata": {
    "collapsed": true
   },
   "outputs": [],
   "source": [
    "#creating layers\n",
    "v=np.random.normal(scale=0.1,size=(n_input,n_hidden))\n",
    "w=np.random.normal(scale=0.1,size=(n_hidden,n_out))\n",
    "\n",
    "bv=np.zeros(n_hidden)\n",
    "bw=np.zeros(n_out)\n",
    "\n",
    "#array of values\n",
    "params=[v,w,bv,bw]\n",
    "\n",
    "#generating data\n",
    "x=np.random.binomial(1,0.5,(n_sample,n_input))\n",
    "t=x^1"
   ]
  },
  {
   "cell_type": "markdown",
   "metadata": {},
   "source": [
    "# Training Step"
   ]
  },
  {
   "cell_type": "code",
   "execution_count": 38,
   "metadata": {},
   "outputs": [
    {
     "name": "stdout",
     "output_type": "stream",
     "text": [
      "Epoch: 0, Loss:0.42471398, Time: 0.0414 s\n",
      "Epoch: 1, Loss:0.12128209, Time: 0.0254 s\n",
      "Epoch: 2, Loss:0.07488022, Time: 0.0271 s\n",
      "Epoch: 3, Loss:0.05183273, Time: 0.0272 s\n",
      "Epoch: 4, Loss:0.03501070, Time: 0.0313 s\n",
      "Epoch: 5, Loss:0.02546830, Time: 0.0309 s\n",
      "Epoch: 6, Loss:0.02022089, Time: 0.0314 s\n",
      "Epoch: 7, Loss:0.01689612, Time: 0.0260 s\n",
      "Epoch: 8, Loss:0.01458546, Time: 0.0194 s\n",
      "Epoch: 9, Loss:0.01286509, Time: 0.0282 s\n",
      "Epoch: 10, Loss:0.01151878, Time: 0.0281 s\n",
      "Epoch: 11, Loss:0.01042873, Time: 0.0243 s\n",
      "Epoch: 12, Loss:0.00952431, Time: 0.0248 s\n",
      "Epoch: 13, Loss:0.00875992, Time: 0.0321 s\n",
      "Epoch: 14, Loss:0.00810449, Time: 0.0178 s\n",
      "Epoch: 15, Loss:0.00753592, Time: 0.0205 s\n",
      "Epoch: 16, Loss:0.00703789, Time: 0.0242 s\n",
      "Epoch: 17, Loss:0.00659804, Time: 0.0187 s\n",
      "Epoch: 18, Loss:0.00620678, Time: 0.0200 s\n",
      "Epoch: 19, Loss:0.00585655, Time: 0.0240 s\n",
      "Epoch: 20, Loss:0.00554129, Time: 0.0285 s\n",
      "Epoch: 21, Loss:0.00525607, Time: 0.0268 s\n",
      "Epoch: 22, Loss:0.00499687, Time: 0.0300 s\n",
      "Epoch: 23, Loss:0.00476033, Time: 0.0238 s\n",
      "Epoch: 24, Loss:0.00454365, Time: 0.0197 s\n",
      "Epoch: 25, Loss:0.00434447, Time: 0.0243 s\n",
      "Epoch: 26, Loss:0.00416080, Time: 0.0222 s\n",
      "Epoch: 27, Loss:0.00399093, Time: 0.0278 s\n",
      "Epoch: 28, Loss:0.00383338, Time: 0.0229 s\n",
      "Epoch: 29, Loss:0.00368689, Time: 0.0195 s\n",
      "Epoch: 30, Loss:0.00355036, Time: 0.0289 s\n",
      "Epoch: 31, Loss:0.00342282, Time: 0.0260 s\n",
      "Epoch: 32, Loss:0.00330343, Time: 0.0304 s\n",
      "Epoch: 33, Loss:0.00319146, Time: 0.0293 s\n",
      "Epoch: 34, Loss:0.00308625, Time: 0.0239 s\n",
      "Epoch: 35, Loss:0.00298721, Time: 0.0283 s\n",
      "Epoch: 36, Loss:0.00289384, Time: 0.0184 s\n",
      "Epoch: 37, Loss:0.00280567, Time: 0.0202 s\n",
      "Epoch: 38, Loss:0.00272229, Time: 0.0207 s\n",
      "Epoch: 39, Loss:0.00264333, Time: 0.0216 s\n",
      "Epoch: 40, Loss:0.00256846, Time: 0.0218 s\n",
      "Epoch: 41, Loss:0.00249737, Time: 0.0250 s\n",
      "Epoch: 42, Loss:0.00242979, Time: 0.0189 s\n",
      "Epoch: 43, Loss:0.00236548, Time: 0.0294 s\n",
      "Epoch: 44, Loss:0.00230421, Time: 0.0264 s\n",
      "Epoch: 45, Loss:0.00224577, Time: 0.0224 s\n",
      "Epoch: 46, Loss:0.00218998, Time: 0.0206 s\n",
      "Epoch: 47, Loss:0.00213667, Time: 0.0243 s\n",
      "Epoch: 48, Loss:0.00208568, Time: 0.0239 s\n",
      "Epoch: 49, Loss:0.00203687, Time: 0.0234 s\n",
      "Epoch: 50, Loss:0.00199010, Time: 0.0281 s\n",
      "Epoch: 51, Loss:0.00194525, Time: 0.0198 s\n",
      "Epoch: 52, Loss:0.00190221, Time: 0.0221 s\n",
      "Epoch: 53, Loss:0.00186087, Time: 0.0367 s\n",
      "Epoch: 54, Loss:0.00182114, Time: 0.0243 s\n",
      "Epoch: 55, Loss:0.00178293, Time: 0.0267 s\n",
      "Epoch: 56, Loss:0.00174616, Time: 0.0250 s\n",
      "Epoch: 57, Loss:0.00171074, Time: 0.0216 s\n",
      "Epoch: 58, Loss:0.00167661, Time: 0.0229 s\n",
      "Epoch: 59, Loss:0.00164370, Time: 0.0258 s\n",
      "Epoch: 60, Loss:0.00161195, Time: 0.0221 s\n",
      "Epoch: 61, Loss:0.00158129, Time: 0.0196 s\n",
      "Epoch: 62, Loss:0.00155169, Time: 0.0201 s\n",
      "Epoch: 63, Loss:0.00152307, Time: 0.0276 s\n",
      "Epoch: 64, Loss:0.00149540, Time: 0.0298 s\n",
      "Epoch: 65, Loss:0.00146863, Time: 0.0297 s\n",
      "Epoch: 66, Loss:0.00144272, Time: 0.0274 s\n",
      "Epoch: 67, Loss:0.00141763, Time: 0.0215 s\n",
      "Epoch: 68, Loss:0.00139332, Time: 0.0207 s\n",
      "Epoch: 69, Loss:0.00136976, Time: 0.0235 s\n",
      "Epoch: 70, Loss:0.00134692, Time: 0.0240 s\n",
      "Epoch: 71, Loss:0.00132475, Time: 0.0300 s\n",
      "Epoch: 72, Loss:0.00130324, Time: 0.0225 s\n",
      "Epoch: 73, Loss:0.00128236, Time: 0.0252 s\n",
      "Epoch: 74, Loss:0.00126208, Time: 0.0289 s\n",
      "Epoch: 75, Loss:0.00124237, Time: 0.0329 s\n",
      "Epoch: 76, Loss:0.00122322, Time: 0.0223 s\n",
      "Epoch: 77, Loss:0.00120459, Time: 0.0221 s\n",
      "Epoch: 78, Loss:0.00118648, Time: 0.0234 s\n",
      "Epoch: 79, Loss:0.00116885, Time: 0.0262 s\n",
      "Epoch: 80, Loss:0.00115170, Time: 0.0208 s\n",
      "Epoch: 81, Loss:0.00113499, Time: 0.0228 s\n",
      "Epoch: 82, Loss:0.00111872, Time: 0.0244 s\n",
      "Epoch: 83, Loss:0.00110287, Time: 0.0304 s\n",
      "Epoch: 84, Loss:0.00108743, Time: 0.0283 s\n",
      "Epoch: 85, Loss:0.00107237, Time: 0.0226 s\n",
      "Epoch: 86, Loss:0.00105768, Time: 0.0312 s\n",
      "Epoch: 87, Loss:0.00104336, Time: 0.0174 s\n",
      "Epoch: 88, Loss:0.00102939, Time: 0.0238 s\n",
      "Epoch: 89, Loss:0.00101575, Time: 0.0221 s\n",
      "Epoch: 90, Loss:0.00100244, Time: 0.0285 s\n",
      "Epoch: 91, Loss:0.00098944, Time: 0.0237 s\n",
      "Epoch: 92, Loss:0.00097675, Time: 0.0209 s\n",
      "Epoch: 93, Loss:0.00096435, Time: 0.0288 s\n",
      "Epoch: 94, Loss:0.00095223, Time: 0.0278 s\n",
      "Epoch: 95, Loss:0.00094039, Time: 0.0218 s\n",
      "Epoch: 96, Loss:0.00092881, Time: 0.0311 s\n",
      "Epoch: 97, Loss:0.00091749, Time: 0.0281 s\n",
      "Epoch: 98, Loss:0.00090642, Time: 0.0252 s\n",
      "Epoch: 99, Loss:0.00089558, Time: 0.0244 s\n"
     ]
    }
   ],
   "source": [
    "for epoch in range(100):\n",
    "    err=[]\n",
    "    upd=[0]*len(params)\n",
    "    t0=time.clock()\n",
    "    #for each datapoint update weights\n",
    "    for i in range(x.shape[0]):\n",
    "        loss,grad=train(x[i],t[i],*params)\n",
    "        #update loss\n",
    "        for a in range(len(params)):\n",
    "            params[a]-=upd[a]\n",
    "        for b in range(len(params)):\n",
    "            upd[b]=learning_rate*grad[b]+momentum*upd[b]\n",
    "            \n",
    "        err.append(loss)\n",
    "        #print(loss)\n",
    "        \n",
    "    print('Epoch: %d, Loss:%.8f, Time: %.4f s' %(\n",
    "        epoch,np.mean(err),time.clock()-t0))"
   ]
  },
  {
   "cell_type": "markdown",
   "metadata": {},
   "source": [
    "# Predicting"
   ]
  },
  {
   "cell_type": "code",
   "execution_count": 39,
   "metadata": {},
   "outputs": [
    {
     "name": "stdout",
     "output_type": "stream",
     "text": [
      "Input data\n",
      "[1 1 1 0 0 0 0 1 0 1]\n",
      "Output should be\n",
      "[0 0 0 1 1 1 1 0 1 0]\n",
      "Output is\n",
      "[0 0 0 1 1 1 1 0 1 0]\n"
     ]
    }
   ],
   "source": [
    "x=np.random.binomial(1,0.5,n_input)\n",
    "print('Input data');\n",
    "print(x)\n",
    "print('Output should be')\n",
    "print(x^1)\n",
    "print('Output is')\n",
    "print(predict(x,*params))"
   ]
  },
  {
   "cell_type": "code",
   "execution_count": null,
   "metadata": {
    "collapsed": true
   },
   "outputs": [],
   "source": []
  }
 ],
 "metadata": {
  "kernelspec": {
   "display_name": "Python 3",
   "language": "python",
   "name": "python3"
  },
  "language_info": {
   "codemirror_mode": {
    "name": "ipython",
    "version": 3
   },
   "file_extension": ".py",
   "mimetype": "text/x-python",
   "name": "python",
   "nbconvert_exporter": "python",
   "pygments_lexer": "ipython3",
   "version": "3.6.1"
  }
 },
 "nbformat": 4,
 "nbformat_minor": 2
}
